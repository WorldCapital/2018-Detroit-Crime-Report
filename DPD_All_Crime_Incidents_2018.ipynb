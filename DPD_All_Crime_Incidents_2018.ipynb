{
  "nbformat": 4,
  "nbformat_minor": 0,
  "metadata": {
    "colab": {
      "name": "DPD_All_Crime_Incidents_2018.ipynb",
      "version": "0.3.2",
      "provenance": [],
      "collapsed_sections": [],
      "toc_visible": true
    },
    "kernelspec": {
      "name": "python3",
      "display_name": "Python 3"
    },
    "accelerator": "GPU"
  },
  "cells": [
    {
      "cell_type": "markdown",
      "metadata": {
        "id": "PTH37oL-2V6_",
        "colab_type": "text"
      },
      "source": [
        "# 2018 Detroit Crime Data Analysis\n",
        "\n",
        "\n",
        "---\n",
        "\n",
        "\n",
        "An exploratory data analysis was performed on Detroit's Crime Data available through the City of Detroit's Open Portal resource website. Pandas Python was the software used to conduct the analysis.\n",
        "\n",
        "DPD Crime Data was downloaded from Open Portal, stored in OneDrive, and uploaded to Google Colab notebook for analysis.\n",
        "\n",
        "\n",
        "https://data.detroitmi.gov/Public-Safety/DPD-All-Crime-Incidents-December-6-2016-Present/6gdg-y3kf\n"
      ]
    },
    {
      "cell_type": "code",
      "metadata": {
        "id": "1RWP4pu32V7J",
        "colab_type": "code",
        "outputId": "e8bda7aa-790f-48f4-85b1-069d7e346fa0",
        "colab": {
          "base_uri": "https://localhost:8080/",
          "height": 72
        }
      },
      "source": [
        "import pandas as pd\n",
        "%matplotlib inline\n",
        "import matplotlib.pyplot as plt\n",
        "import seaborn as sns\n",
        "\n",
        "# Retrieve the data into a Pandas DataFrame.\n",
        "dpd_crime = pd.read_csv('Detroit_Police_Incidents_2018.csv')"
      ],
      "execution_count": 2,
      "outputs": [
        {
          "output_type": "stream",
          "text": [
            "/usr/local/lib/python3.6/dist-packages/IPython/core/interactiveshell.py:2718: DtypeWarning: Columns (6,12,13) have mixed types. Specify dtype option on import or set low_memory=False.\n",
            "  interactivity=interactivity, compiler=compiler, result=result)\n"
          ],
          "name": "stderr"
        }
      ]
    },
    {
      "cell_type": "markdown",
      "metadata": {
        "id": "DIo7nP_O2V7v",
        "colab_type": "text"
      },
      "source": [
        "## Data Cleaning Detroit Crime \n",
        "\n",
        "Data cleaning was carried out in two steps using Excel to clean the structured data.\n",
        "\n",
        "Step 1: Began in Excel by changing the column's names from uppercase to lowercsae, eliminating several columns that were not needed, and replaced spaces with underscores.\n",
        "\n",
        "Step 2: Removed all columns \n",
        "\n",
        "\n"
      ]
    },
    {
      "cell_type": "code",
      "metadata": {
        "id": "UTLSQEf12V74",
        "colab_type": "code",
        "outputId": "1e2b555b-4afe-4207-dce3-1577124b885f",
        "colab": {
          "base_uri": "https://localhost:8080/",
          "height": 503
        }
      },
      "source": [
        "# Get some summaries of columns and data types.\n",
        "print(dpd_crime.info())"
      ],
      "execution_count": 3,
      "outputs": [
        {
          "output_type": "stream",
          "text": [
            "<class 'pandas.core.frame.DataFrame'>\n",
            "RangeIndex: 81254 entries, 0 to 81253\n",
            "Data columns (total 22 columns):\n",
            "Crime ID                     81254 non-null int64\n",
            "Report #                     81254 non-null int64\n",
            "Incident Address             81254 non-null object\n",
            "Offense Description          81254 non-null object\n",
            "Offense Category             81254 non-null object\n",
            "Charge Description           81254 non-null object\n",
            "Offense Code                 81254 non-null object\n",
            "State Offense Code           81254 non-null int64\n",
            "Incident Date & Time         81254 non-null object\n",
            "Incident Time (24h)          81254 non-null int64\n",
            "Day of Week (Sunday is 1)    81254 non-null int64\n",
            "Hour of Day                  81254 non-null int64\n",
            "Scout Car Area               81254 non-null object\n",
            "Precinct Number              81254 non-null object\n",
            "Neighborhood                 81254 non-null object\n",
            "Council District             81254 non-null int64\n",
            "Longitude                    81254 non-null float64\n",
            "Latitude                     81254 non-null float64\n",
            "IBR Report Date              81254 non-null object\n",
            "uniq                         81254 non-null int64\n",
            "date                         81254 non-null object\n",
            "month                        81254 non-null int64\n",
            "dtypes: float64(2), int64(9), object(11)\n",
            "memory usage: 13.6+ MB\n",
            "None\n"
          ],
          "name": "stdout"
        }
      ]
    },
    {
      "cell_type": "code",
      "metadata": {
        "id": "ETWVet1Kd1LD",
        "colab_type": "code",
        "colab": {
          "base_uri": "https://localhost:8080/",
          "height": 156
        },
        "outputId": "093754fc-fde5-45f2-eacd-85df7bc4f325"
      },
      "source": [
        "print(dpd_crime.head())"
      ],
      "execution_count": 6,
      "outputs": [
        {
          "output_type": "stream",
          "text": [
            "   Crime ID    Report #  ...      date month\n",
            "0   3313139  1901010180  ...  12/31/18    12\n",
            "1   3307712  1901010143  ...  12/31/18    12\n",
            "2   3307592  1901010009  ...  12/31/18    12\n",
            "3   3307579  1901010024  ...  12/31/18    12\n",
            "4   3307608  1901010003  ...  12/31/18    12\n",
            "\n",
            "[5 rows x 22 columns]\n"
          ],
          "name": "stdout"
        }
      ]
    },
    {
      "cell_type": "markdown",
      "metadata": {
        "id": "fGuWwINw2V9h",
        "colab_type": "text"
      },
      "source": [
        "## Question how many unique crimes, offense categories, and time of day crimes are there?\n",
        "\n",
        "It is interesting to find the total number of runaway offenses from 2016 (757) and the total number of assaults (23,717) are staggering. \n",
        "\n"
      ]
    },
    {
      "cell_type": "code",
      "metadata": {
        "id": "LqF0TMBE2V9m",
        "colab_type": "code",
        "outputId": "1bbc2050-6839-4f8a-da2c-bfe68bb3d8c3",
        "colab": {
          "base_uri": "https://localhost:8080/",
          "height": 534
        }
      },
      "source": [
        "dpd_crime.head()"
      ],
      "execution_count": 4,
      "outputs": [
        {
          "output_type": "execute_result",
          "data": {
            "text/html": [
              "<div>\n",
              "<style scoped>\n",
              "    .dataframe tbody tr th:only-of-type {\n",
              "        vertical-align: middle;\n",
              "    }\n",
              "\n",
              "    .dataframe tbody tr th {\n",
              "        vertical-align: top;\n",
              "    }\n",
              "\n",
              "    .dataframe thead th {\n",
              "        text-align: right;\n",
              "    }\n",
              "</style>\n",
              "<table border=\"1\" class=\"dataframe\">\n",
              "  <thead>\n",
              "    <tr style=\"text-align: right;\">\n",
              "      <th></th>\n",
              "      <th>Crime ID</th>\n",
              "      <th>Report #</th>\n",
              "      <th>Incident Address</th>\n",
              "      <th>Offense Description</th>\n",
              "      <th>Offense Category</th>\n",
              "      <th>Charge Description</th>\n",
              "      <th>Offense Code</th>\n",
              "      <th>State Offense Code</th>\n",
              "      <th>Incident Date &amp; Time</th>\n",
              "      <th>Incident Time (24h)</th>\n",
              "      <th>Day of Week (Sunday is 1)</th>\n",
              "      <th>Hour of Day</th>\n",
              "      <th>Scout Car Area</th>\n",
              "      <th>Precinct Number</th>\n",
              "      <th>Neighborhood</th>\n",
              "      <th>Council District</th>\n",
              "      <th>Longitude</th>\n",
              "      <th>Latitude</th>\n",
              "      <th>IBR Report Date</th>\n",
              "      <th>uniq</th>\n",
              "      <th>date</th>\n",
              "      <th>month</th>\n",
              "    </tr>\n",
              "  </thead>\n",
              "  <tbody>\n",
              "    <tr>\n",
              "      <th>0</th>\n",
              "      <td>3313139</td>\n",
              "      <td>1901010180</td>\n",
              "      <td>18600 block of SAINT LOUIS ST</td>\n",
              "      <td>AGGRAVATED / FELONIOUS ASSAULT</td>\n",
              "      <td>AGGRAVATED ASSAULT</td>\n",
              "      <td>AGGRAVATED / FELONIOUS ASSAULT</td>\n",
              "      <td>13002</td>\n",
              "      <td>1302</td>\n",
              "      <td>12/31/2018 23:59</td>\n",
              "      <td>2359</td>\n",
              "      <td>2</td>\n",
              "      <td>23</td>\n",
              "      <td>1109</td>\n",
              "      <td>11</td>\n",
              "      <td>Grant</td>\n",
              "      <td>3</td>\n",
              "      <td>-83.040205</td>\n",
              "      <td>42.430461</td>\n",
              "      <td>1/17/2019 11:35</td>\n",
              "      <td>175411</td>\n",
              "      <td>12/31/18</td>\n",
              "      <td>12</td>\n",
              "    </tr>\n",
              "    <tr>\n",
              "      <th>1</th>\n",
              "      <td>3307712</td>\n",
              "      <td>1901010143</td>\n",
              "      <td>13300 block of CORBETT AVE</td>\n",
              "      <td>DAMAGE TO PROPERTY</td>\n",
              "      <td>DAMAGE TO PROPERTY</td>\n",
              "      <td>DAMAGE TO PROPERTY</td>\n",
              "      <td>29000</td>\n",
              "      <td>2900</td>\n",
              "      <td>12/31/2018 23:59</td>\n",
              "      <td>2359</td>\n",
              "      <td>2</td>\n",
              "      <td>23</td>\n",
              "      <td>910</td>\n",
              "      <td>9</td>\n",
              "      <td>Outer Drive-Hayes</td>\n",
              "      <td>4</td>\n",
              "      <td>-82.972464</td>\n",
              "      <td>42.407665</td>\n",
              "      <td>1/8/2019 11:55</td>\n",
              "      <td>172275</td>\n",
              "      <td>12/31/18</td>\n",
              "      <td>12</td>\n",
              "    </tr>\n",
              "    <tr>\n",
              "      <th>2</th>\n",
              "      <td>3307592</td>\n",
              "      <td>1901010009</td>\n",
              "      <td>3700 block of MELDRUM ST</td>\n",
              "      <td>AGGRAVATED / FELONIOUS ASSAULT</td>\n",
              "      <td>AGGRAVATED ASSAULT</td>\n",
              "      <td>AGGRAVATED / FELONIOUS ASSAULT</td>\n",
              "      <td>13002</td>\n",
              "      <td>1302</td>\n",
              "      <td>12/31/2018 23:57</td>\n",
              "      <td>2357</td>\n",
              "      <td>2</td>\n",
              "      <td>23</td>\n",
              "      <td>707</td>\n",
              "      <td>7</td>\n",
              "      <td>Gratiot-Grand</td>\n",
              "      <td>5</td>\n",
              "      <td>-83.021472</td>\n",
              "      <td>42.363361</td>\n",
              "      <td>2/1/2019 17:38</td>\n",
              "      <td>172204</td>\n",
              "      <td>12/31/18</td>\n",
              "      <td>12</td>\n",
              "    </tr>\n",
              "    <tr>\n",
              "      <th>3</th>\n",
              "      <td>3307579</td>\n",
              "      <td>1901010024</td>\n",
              "      <td>16600 block of SCHAEFER HWY</td>\n",
              "      <td>OBSTRUCTING JUSTICE</td>\n",
              "      <td>OBSTRUCTING JUDICIARY</td>\n",
              "      <td>OBSTRUCTING JUSTICE</td>\n",
              "      <td>50000</td>\n",
              "      <td>5001</td>\n",
              "      <td>12/31/2018 23:50</td>\n",
              "      <td>2350</td>\n",
              "      <td>2</td>\n",
              "      <td>23</td>\n",
              "      <td>201</td>\n",
              "      <td>2</td>\n",
              "      <td>Harmony Village</td>\n",
              "      <td>2</td>\n",
              "      <td>-83.179567</td>\n",
              "      <td>42.412832</td>\n",
              "      <td>1/8/2019 11:55</td>\n",
              "      <td>172197</td>\n",
              "      <td>12/31/18</td>\n",
              "      <td>12</td>\n",
              "    </tr>\n",
              "    <tr>\n",
              "      <th>4</th>\n",
              "      <td>3307608</td>\n",
              "      <td>1901010003</td>\n",
              "      <td>Corner of CONCORD ST and GRATIOT AVE</td>\n",
              "      <td>WEAPONS OFFENSE - CONCEALED</td>\n",
              "      <td>WEAPONS OFFENSES</td>\n",
              "      <td>WEAPONS OFFENSE - CONCEALED</td>\n",
              "      <td>52001</td>\n",
              "      <td>5201</td>\n",
              "      <td>12/31/2018 23:41</td>\n",
              "      <td>2341</td>\n",
              "      <td>2</td>\n",
              "      <td>23</td>\n",
              "      <td>707</td>\n",
              "      <td>7</td>\n",
              "      <td>Gratiot Town/Ketterring</td>\n",
              "      <td>5</td>\n",
              "      <td>-83.020984</td>\n",
              "      <td>42.369448</td>\n",
              "      <td>1/2/2019 10:53</td>\n",
              "      <td>172211</td>\n",
              "      <td>12/31/18</td>\n",
              "      <td>12</td>\n",
              "    </tr>\n",
              "  </tbody>\n",
              "</table>\n",
              "</div>"
            ],
            "text/plain": [
              "   Crime ID    Report #  ...      date month\n",
              "0   3313139  1901010180  ...  12/31/18    12\n",
              "1   3307712  1901010143  ...  12/31/18    12\n",
              "2   3307592  1901010009  ...  12/31/18    12\n",
              "3   3307579  1901010024  ...  12/31/18    12\n",
              "4   3307608  1901010003  ...  12/31/18    12\n",
              "\n",
              "[5 rows x 22 columns]"
            ]
          },
          "metadata": {
            "tags": []
          },
          "execution_count": 4
        }
      ]
    },
    {
      "cell_type": "code",
      "metadata": {
        "id": "kgQjcHNh2V9-",
        "colab_type": "code",
        "colab": {
          "base_uri": "https://localhost:8080/",
          "height": 52
        },
        "outputId": "9fad2f0c-b869-4205-82a1-3f8934d11278"
      },
      "source": [
        "print(len(dpd_crime['Crime ID'].unique()))\n",
        "print(len(dpd_crime['Offense Description'].unique()))"
      ],
      "execution_count": 5,
      "outputs": [
        {
          "output_type": "stream",
          "text": [
            "76763\n",
            "94\n"
          ],
          "name": "stdout"
        }
      ]
    },
    {
      "cell_type": "code",
      "metadata": {
        "id": "tWISwfO82V-a",
        "colab_type": "code",
        "outputId": "2736d47b-342a-466b-ceea-f2244b8c1bd3",
        "colab": {
          "base_uri": "https://localhost:8080/",
          "height": 35
        }
      },
      "source": [
        "print(len(dpd_crime['Offense Category'].unique()))"
      ],
      "execution_count": 6,
      "outputs": [
        {
          "output_type": "stream",
          "text": [
            "30\n"
          ],
          "name": "stdout"
        }
      ]
    },
    {
      "cell_type": "code",
      "metadata": {
        "id": "WmgJjM8B2V_m",
        "colab_type": "code",
        "outputId": "b0787164-95e5-45d0-b047-7aceca5afab8",
        "colab": {
          "base_uri": "https://localhost:8080/",
          "height": 1000
        }
      },
      "source": [
        "crime_groups = dpd_crime.groupby(['Offense Description'], as_index=True)\n",
        "\n",
        "# size gives the number of crimes descriptions.\n",
        "print(crime_groups.size())"
      ],
      "execution_count": 7,
      "outputs": [
        {
          "output_type": "stream",
          "text": [
            "Offense Description\n",
            "                                                               4\n",
            "ACCIDENT, HIT & RUN                                          672\n",
            "AGGRAVATED / FELONIOUS ASSAULT                              8865\n",
            "ALCOHOL - MINOR IN POSSESSION                                  1\n",
            "ANIMAL - CRUELTY                                               1\n",
            "ARSON                                                        734\n",
            "ASSAULT AND BATTERY/SIMPLE ASSAULT                         15199\n",
            "BURGLARY - ENTRY WITHOUT FORCE (INTENT TO COMMIT)            869\n",
            "BURGLARY - FORCED ENTRY                                     6455\n",
            "CHILD NEGLECT                                                  1\n",
            "COCAINE - POSSESS                                              2\n",
            "COMMERCIALIZED SEX - ASSISTING / PROMOTING PROSTITUTION       24\n",
            "COMMERCIALIZED SEX - PROSTITUTION                            851\n",
            "CSC 1ST DEGREE - OBJECT                                       42\n",
            "CSC 1ST DEGREE - ORAL / ANAL                                 203\n",
            "CSC 1ST DEGREE - PENIS / VAGINA                              375\n",
            "CSC 2ND DEGREE - FORCIBLE CONTACT                            309\n",
            "CSC 3RD DEGREE - OBJECT                                       11\n",
            "CSC 3RD DEGREE - ORAL / ANAL                                  65\n",
            "CSC 3RD DEGREE - PENIS / VAGINA                              143\n",
            "CSC 4TH DEGREE - FORCIBLE CONTACT                            243\n",
            "DAMAGE TO PRIVATE PROPERTY                                     1\n",
            "DAMAGE TO PROPERTY                                          8283\n",
            "DISORDERLY CONDUCT - GENERAL                                 301\n",
            "ENTRY WITHOUT PERMISSION (NO INTENT)                         246\n",
            "ESCAPE / FLIGHT                                                2\n",
            "EXTORTION                                                     46\n",
            "FAMILY - ABUSE / NEGLECT NONVIOLENT                          187\n",
            "FAMILY - OTHER                                                75\n",
            "FORGERY / COUNTERFEITING                                     243\n",
            "                                                           ...  \n",
            "NEGLIGENT HOMICIDE / MANSLAUGHTER (INVOLUNTARY)                1\n",
            "OBSTRUCTING JUSTICE                                         1095\n",
            "OBSTRUCTING POLICE                                           207\n",
            "OPERATING UNDER THE INFLUENCE OF LIQUOR OR DRUGS               1\n",
            "PARENTAL KIDNAPPING                                           28\n",
            "PEEPING TOM                                                    1\n",
            "PERSONAL PROTECTION ORDER - VIOLATION                          1\n",
            "POSSESSION OF A STOLEN VEHICLE                                 1\n",
            "POSSESSION OF BURGLARY TOOLS                                   8\n",
            "PROBATION VIOLATION                                            3\n",
            "PUBLIC PEACE - OTHER                                           3\n",
            "RETAIL FRAUD - MISREPRESENTATION                              11\n",
            "RETAIL FRAUD - THEFT                                        1083\n",
            "ROBBERY                                                     2284\n",
            "ROBBERY - ARMED                                                5\n",
            "RUNAWAY                                                      475\n",
            "SEX OFFENSE - OTHER                                          124\n",
            "SEXUAL PENETRATION NONFORCIBLE - BLOOD / AFFINITY              1\n",
            "SEXUAL PENETRATION NONFORCIBLE - OTHER                         1\n",
            "SOLICITATION (ALL CRIMES EXCEPT PROSTITUTION)                  5\n",
            "STOLEN PROPERTY                                              129\n",
            "THREATS / HARASSMENT BY USE OF TELEPHONE                       3\n",
            "TOBACCO - POSSESSION BY MINOR                                  1\n",
            "TRESPASS                                                     212\n",
            "UNAUTHOIRZED USE OF A MOTOR VEHICLE (JOY RIDING)               1\n",
            "VIOLATION OF CONTROLED SUBSTANCE ACT - (VCSA)               3078\n",
            "WEAPONS - CARRYING A CONCEALED WEAPON (CCW)                    1\n",
            "WEAPONS - FIREARM IN AUTOMOBILE (CCW)                          1\n",
            "WEAPONS OFFENSE - CONCEALED                                  836\n",
            "WEAPONS OFFENSE - OTHER                                      234\n",
            "Length: 94, dtype: int64\n"
          ],
          "name": "stdout"
        }
      ]
    },
    {
      "cell_type": "code",
      "metadata": {
        "id": "YYISRo4j2V_-",
        "colab_type": "code",
        "outputId": "e74d7a80-2562-455d-9bf7-d4b424a58efc",
        "colab": {
          "base_uri": "https://localhost:8080/",
          "height": 572
        }
      },
      "source": [
        "crime_groups = dpd_crime.groupby(['Offense Category'], as_index=True)\n",
        "\n",
        "# size gives the number of Offenses Categories\n",
        "print(crime_groups.size())"
      ],
      "execution_count": 8,
      "outputs": [
        {
          "output_type": "stream",
          "text": [
            "Offense Category\n",
            "AGGRAVATED ASSAULT         8143\n",
            "ARSON                       728\n",
            "ASSAULT                   14547\n",
            "BURGLARY                   7664\n",
            "DAMAGE TO PROPERTY         9824\n",
            "DANGEROUS DRUGS            2984\n",
            "DISORDERLY CONDUCT          368\n",
            "EXTORTION                    44\n",
            "FAMILY OFFENSE              288\n",
            "FORGERY                     234\n",
            "FRAUD                      6314\n",
            "GAMBLING                      2\n",
            "HOMICIDE                    255\n",
            "JUSTIFIABLE HOMICIDE         14\n",
            "KIDNAPPING                  211\n",
            "LARCENY                   13416\n",
            "LIQUOR                       73\n",
            "MISCELLANEOUS               316\n",
            "OBSTRUCTING JUDICIARY      1207\n",
            "OBSTRUCTING THE POLICE      301\n",
            "OTHER                       268\n",
            "OUIL                        714\n",
            "ROBBERY                    2231\n",
            "RUNAWAY                     478\n",
            "SEX OFFENSES               1545\n",
            "SEXUAL ASSAULT              819\n",
            "SOLICITATION                  5\n",
            "STOLEN PROPERTY             472\n",
            "STOLEN VEHICLE             6305\n",
            "WEAPONS OFFENSES           1484\n",
            "dtype: int64\n"
          ],
          "name": "stdout"
        }
      ]
    },
    {
      "cell_type": "code",
      "metadata": {
        "id": "EA2JeBK2lur2",
        "colab_type": "code",
        "colab": {}
      },
      "source": [
        "crime_count = pd.DataFrame(dpd_crime.groupby('Offense Category').size().sort_values(ascending=False).rename('counts').reset_index())"
      ],
      "execution_count": 0,
      "outputs": []
    },
    {
      "cell_type": "code",
      "metadata": {
        "id": "pXv-vpE7ly5z",
        "colab_type": "code",
        "colab": {
          "base_uri": "https://localhost:8080/",
          "height": 355
        },
        "outputId": "0b95419e-919b-4955-b137-e24549ba4fe8"
      },
      "source": [
        "crime_count.head(10)"
      ],
      "execution_count": 17,
      "outputs": [
        {
          "output_type": "execute_result",
          "data": {
            "text/html": [
              "<div>\n",
              "<style scoped>\n",
              "    .dataframe tbody tr th:only-of-type {\n",
              "        vertical-align: middle;\n",
              "    }\n",
              "\n",
              "    .dataframe tbody tr th {\n",
              "        vertical-align: top;\n",
              "    }\n",
              "\n",
              "    .dataframe thead th {\n",
              "        text-align: right;\n",
              "    }\n",
              "</style>\n",
              "<table border=\"1\" class=\"dataframe\">\n",
              "  <thead>\n",
              "    <tr style=\"text-align: right;\">\n",
              "      <th></th>\n",
              "      <th>Offense Category</th>\n",
              "      <th>counts</th>\n",
              "    </tr>\n",
              "  </thead>\n",
              "  <tbody>\n",
              "    <tr>\n",
              "      <th>0</th>\n",
              "      <td>ASSAULT</td>\n",
              "      <td>14547</td>\n",
              "    </tr>\n",
              "    <tr>\n",
              "      <th>1</th>\n",
              "      <td>LARCENY</td>\n",
              "      <td>13416</td>\n",
              "    </tr>\n",
              "    <tr>\n",
              "      <th>2</th>\n",
              "      <td>DAMAGE TO PROPERTY</td>\n",
              "      <td>9824</td>\n",
              "    </tr>\n",
              "    <tr>\n",
              "      <th>3</th>\n",
              "      <td>AGGRAVATED ASSAULT</td>\n",
              "      <td>8143</td>\n",
              "    </tr>\n",
              "    <tr>\n",
              "      <th>4</th>\n",
              "      <td>BURGLARY</td>\n",
              "      <td>7664</td>\n",
              "    </tr>\n",
              "    <tr>\n",
              "      <th>5</th>\n",
              "      <td>FRAUD</td>\n",
              "      <td>6314</td>\n",
              "    </tr>\n",
              "    <tr>\n",
              "      <th>6</th>\n",
              "      <td>STOLEN VEHICLE</td>\n",
              "      <td>6305</td>\n",
              "    </tr>\n",
              "    <tr>\n",
              "      <th>7</th>\n",
              "      <td>DANGEROUS DRUGS</td>\n",
              "      <td>2984</td>\n",
              "    </tr>\n",
              "    <tr>\n",
              "      <th>8</th>\n",
              "      <td>ROBBERY</td>\n",
              "      <td>2231</td>\n",
              "    </tr>\n",
              "    <tr>\n",
              "      <th>9</th>\n",
              "      <td>SEX OFFENSES</td>\n",
              "      <td>1545</td>\n",
              "    </tr>\n",
              "  </tbody>\n",
              "</table>\n",
              "</div>"
            ],
            "text/plain": [
              "     Offense Category  counts\n",
              "0             ASSAULT   14547\n",
              "1             LARCENY   13416\n",
              "2  DAMAGE TO PROPERTY    9824\n",
              "3  AGGRAVATED ASSAULT    8143\n",
              "4            BURGLARY    7664\n",
              "5               FRAUD    6314\n",
              "6      STOLEN VEHICLE    6305\n",
              "7     DANGEROUS DRUGS    2984\n",
              "8             ROBBERY    2231\n",
              "9        SEX OFFENSES    1545"
            ]
          },
          "metadata": {
            "tags": []
          },
          "execution_count": 17
        }
      ]
    },
    {
      "cell_type": "code",
      "metadata": {
        "id": "hq8quqMnmQC-",
        "colab_type": "code",
        "colab": {
          "base_uri": "https://localhost:8080/",
          "height": 889
        },
        "outputId": "2ce7ce7c-0441-4e68-a193-bafd63374591"
      },
      "source": [
        "import seaborn as sns\n",
        "import matplotlib.pyplot as plt\n",
        "sns.set(style=\"whitegrid\")\n",
        "\n",
        "# Initialize the matplotlib figure\n",
        "f, ax = plt.subplots(figsize=(6, 15))\n",
        "\n",
        "\n",
        "# Plot the total crashes\n",
        "sns.set_color_codes(\"pastel\")\n",
        "sns.barplot(x=\"counts\", y=\"Offense Category\", data=crime_count.iloc[:10, :],\n",
        "            label=\"Total\", color=\"b\")\n",
        "\n",
        "ax.legend(ncol=2, loc=\"lower right\", frameon=True)\n",
        "ax.set(ylabel=\"Type\",\n",
        "       xlabel=\"Crimes\")\n",
        "sns.despine(left=True, bottom=True)\n",
        "\n",
        "# Add a legend and informative axis label\n",
        "plt.show()"
      ],
      "execution_count": 18,
      "outputs": [
        {
          "output_type": "display_data",
          "data": {
            "image/png": "[encoded data removed]",
            "text/plain": [
              "<Figure size 432x1080 with 1 Axes>"
            ]
          },
          "metadata": {
            "tags": []
          }
        }
      ]
    },
    {
      "cell_type": "code",
      "metadata": {
        "id": "ffzQh44s2WAV",
        "colab_type": "code",
        "outputId": "2e8a7645-1b0e-4943-8236-18883b78ba88",
        "colab": {
          "base_uri": "https://localhost:8080/",
          "height": 173
        }
      },
      "source": [
        "crime_groups = dpd_crime.groupby(['Day of Week (Sunday is 1)'], as_index=True)\n",
        "\n",
        "# size gives the number of crimes on each day.\n",
        "print(crime_groups.size())"
      ],
      "execution_count": 9,
      "outputs": [
        {
          "output_type": "stream",
          "text": [
            "Day of Week (Sunday is 1)\n",
            "1    11142\n",
            "2    11916\n",
            "3    11615\n",
            "4    11589\n",
            "5    11589\n",
            "6    11854\n",
            "7    11549\n",
            "dtype: int64\n"
          ],
          "name": "stdout"
        }
      ]
    },
    {
      "cell_type": "code",
      "metadata": {
        "id": "Dxk-QM-F2WA0",
        "colab_type": "code",
        "outputId": "8854c2c4-e8c5-4ce6-97f6-08416141058d",
        "colab": {
          "base_uri": "https://localhost:8080/",
          "height": 468
        }
      },
      "source": [
        "crime_groups = dpd_crime.groupby(['Hour of Day'], as_index=True)\n",
        "\n",
        "# size gives the number of crimes per each hour of the day.\n",
        "print(crime_groups.size())"
      ],
      "execution_count": 10,
      "outputs": [
        {
          "output_type": "stream",
          "text": [
            "Hour of Day\n",
            "0     5744\n",
            "1     3270\n",
            "2     2727\n",
            "3     2431\n",
            "4     1807\n",
            "5     1596\n",
            "6     1333\n",
            "7     1627\n",
            "8     2445\n",
            "9     2907\n",
            "10    3265\n",
            "11    3250\n",
            "12    4640\n",
            "13    3514\n",
            "14    3594\n",
            "15    4084\n",
            "16    4242\n",
            "17    4261\n",
            "18    4215\n",
            "19    3916\n",
            "20    4085\n",
            "21    4138\n",
            "22    4208\n",
            "23    3955\n",
            "dtype: int64\n"
          ],
          "name": "stdout"
        }
      ]
    },
    {
      "cell_type": "markdown",
      "metadata": {
        "id": "6iM_Xv3K2WBq",
        "colab_type": "text"
      },
      "source": [
        "### Observation\n",
        "\n",
        "From the data, crimes are distributed evenly though out the week with the highest concentration taking place around midnight. \n",
        "\n"
      ]
    },
    {
      "cell_type": "markdown",
      "metadata": {
        "id": "LF6cC3lW2WBy",
        "colab_type": "text"
      },
      "source": [
        "## Question how many crimes are committed throughout the day?"
      ]
    },
    {
      "cell_type": "code",
      "metadata": {
        "id": "MDJkR32mmZyE",
        "colab_type": "code",
        "colab": {
          "base_uri": "https://localhost:8080/",
          "height": 397
        },
        "outputId": "41527231-d486-4827-e3ed-17eeabbdb08c"
      },
      "source": [
        "dpd_crime['Offense Category'].value_counts().plot(kind = 'pie',autopct='%1.1f%%',figsize=(6,6))\n",
        "plt.title('% of Total Crimes by Offense Category')"
      ],
      "execution_count": 20,
      "outputs": [
        {
          "output_type": "execute_result",
          "data": {
            "text/plain": [
              "Text(0.5, 1.0, '% of Total Crimes by Offense Category')"
            ]
          },
          "metadata": {
            "tags": []
          },
          "execution_count": 20
        },
        {
          "output_type": "display_data",
          "data": {
            "image/png": "[encoded data removed]",
            "text/plain": [
              "<Figure size 432x432 with 1 Axes>"
            ]
          },
          "metadata": {
            "tags": []
          }
        }
      ]
    },
    {
      "cell_type": "code",
      "metadata": {
        "id": "B8bq07T12WCn",
        "colab_type": "code",
        "outputId": "1dec4061-948d-4c30-af81-1602c7d5d99f",
        "colab": {
          "base_uri": "https://localhost:8080/",
          "height": 655
        }
      },
      "source": [
        "plot1 = dpd_crime.groupby('Hour of Day').size().reset_index(name='# of Crimes').set_index('Hour of Day')\n",
        "plot1\n",
        "plot1.plot(kind=\"line\",figsize=(20,10), linestyle='--', marker='o')"
      ],
      "execution_count": 22,
      "outputs": [
        {
          "output_type": "execute_result",
          "data": {
            "text/plain": [
              "<matplotlib.axes._subplots.AxesSubplot at 0x7f7b97bab400>"
            ]
          },
          "metadata": {
            "tags": []
          },
          "execution_count": 22
        },
        {
          "output_type": "display_data",
          "data": {
            "image/png": "[encoded data removed]",
            "text/plain": [
              "<Figure size 1440x720 with 1 Axes>"
            ]
          },
          "metadata": {
            "tags": []
          }
        }
      ]
    },
    {
      "cell_type": "markdown",
      "metadata": {
        "id": "WZIVrgaw2WDE",
        "colab_type": "text"
      },
      "source": [
        "### Plot Observation\n",
        "\n",
        "As expected we see in the box plot an even distribution of crime taking taking thoughout the 24 hour cycle.\n",
        "\n",
        "A Pie chart displays the same data next:"
      ]
    },
    {
      "cell_type": "code",
      "metadata": {
        "id": "SpoazG7Y2WDQ",
        "colab_type": "code",
        "outputId": "4ad900bd-ab04-47f9-c277-481660ca87d4",
        "colab": {
          "base_uri": "https://localhost:8080/",
          "height": 269
        }
      },
      "source": [
        "dpd_crime[\"Hour of Day\"].plot.box();"
      ],
      "execution_count": 11,
      "outputs": [
        {
          "output_type": "display_data",
          "data": {
            "image/png": "[encoded data removed]",
            "text/plain": [
              "<Figure size 432x288 with 1 Axes>"
            ]
          },
          "metadata": {
            "tags": []
          }
        }
      ]
    },
    {
      "cell_type": "code",
      "metadata": {
        "id": "4YL7dXNOfwln",
        "colab_type": "code",
        "colab": {
          "base_uri": "https://localhost:8080/",
          "height": 269
        },
        "outputId": "3054b7c6-3a21-4496-92b9-8432907ea87d"
      },
      "source": [
        "dpd_crime[\"Day of Week (Sunday is 1)\"].plot.box();"
      ],
      "execution_count": 12,
      "outputs": [
        {
          "output_type": "display_data",
          "data": {
            "image/png": "[encoded data removed]",
            "text/plain": [
              "<Figure size 432x288 with 1 Axes>"
            ]
          },
          "metadata": {
            "tags": []
          }
        }
      ]
    },
    {
      "cell_type": "markdown",
      "metadata": {
        "id": "goN0Dtzj2WEX",
        "colab_type": "text"
      },
      "source": [
        "### Question what is the correlation among data in the table?\n",
        "\n",
        "The correlation indicates and confirms that there is little to no correlation exists between the variables."
      ]
    },
    {
      "cell_type": "code",
      "metadata": {
        "id": "W0VH6dsT2WEZ",
        "colab_type": "code",
        "outputId": "d0932909-f0eb-4693-e304-d81e9ea26b60",
        "colab": {
          "base_uri": "https://localhost:8080/",
          "height": 614
        }
      },
      "source": [
        "dpd_crime.corr()"
      ],
      "execution_count": 13,
      "outputs": [
        {
          "output_type": "execute_result",
          "data": {
            "text/html": [
              "<div>\n",
              "<style scoped>\n",
              "    .dataframe tbody tr th:only-of-type {\n",
              "        vertical-align: middle;\n",
              "    }\n",
              "\n",
              "    .dataframe tbody tr th {\n",
              "        vertical-align: top;\n",
              "    }\n",
              "\n",
              "    .dataframe thead th {\n",
              "        text-align: right;\n",
              "    }\n",
              "</style>\n",
              "<table border=\"1\" class=\"dataframe\">\n",
              "  <thead>\n",
              "    <tr style=\"text-align: right;\">\n",
              "      <th></th>\n",
              "      <th>Crime ID</th>\n",
              "      <th>Report #</th>\n",
              "      <th>State Offense Code</th>\n",
              "      <th>Incident Time (24h)</th>\n",
              "      <th>Day of Week (Sunday is 1)</th>\n",
              "      <th>Hour of Day</th>\n",
              "      <th>Council District</th>\n",
              "      <th>Longitude</th>\n",
              "      <th>Latitude</th>\n",
              "      <th>uniq</th>\n",
              "      <th>month</th>\n",
              "    </tr>\n",
              "  </thead>\n",
              "  <tbody>\n",
              "    <tr>\n",
              "      <th>Crime ID</th>\n",
              "      <td>1.000000</td>\n",
              "      <td>0.301324</td>\n",
              "      <td>-0.024493</td>\n",
              "      <td>0.004613</td>\n",
              "      <td>-0.000865</td>\n",
              "      <td>0.004483</td>\n",
              "      <td>-0.006557</td>\n",
              "      <td>0.011412</td>\n",
              "      <td>0.015287</td>\n",
              "      <td>0.999406</td>\n",
              "      <td>0.976334</td>\n",
              "    </tr>\n",
              "    <tr>\n",
              "      <th>Report #</th>\n",
              "      <td>0.301324</td>\n",
              "      <td>1.000000</td>\n",
              "      <td>-0.002867</td>\n",
              "      <td>-0.004807</td>\n",
              "      <td>-0.000408</td>\n",
              "      <td>-0.004005</td>\n",
              "      <td>-0.005468</td>\n",
              "      <td>0.002791</td>\n",
              "      <td>0.008119</td>\n",
              "      <td>0.301816</td>\n",
              "      <td>0.247433</td>\n",
              "    </tr>\n",
              "    <tr>\n",
              "      <th>State Offense Code</th>\n",
              "      <td>-0.024493</td>\n",
              "      <td>-0.002867</td>\n",
              "      <td>1.000000</td>\n",
              "      <td>0.057179</td>\n",
              "      <td>0.011587</td>\n",
              "      <td>0.057327</td>\n",
              "      <td>0.007754</td>\n",
              "      <td>0.017848</td>\n",
              "      <td>-0.020047</td>\n",
              "      <td>-0.024844</td>\n",
              "      <td>-0.025752</td>\n",
              "    </tr>\n",
              "    <tr>\n",
              "      <th>Incident Time (24h)</th>\n",
              "      <td>0.004613</td>\n",
              "      <td>-0.004807</td>\n",
              "      <td>0.057179</td>\n",
              "      <td>1.000000</td>\n",
              "      <td>0.019140</td>\n",
              "      <td>0.999651</td>\n",
              "      <td>0.011004</td>\n",
              "      <td>0.000830</td>\n",
              "      <td>-0.011536</td>\n",
              "      <td>0.004676</td>\n",
              "      <td>0.010448</td>\n",
              "    </tr>\n",
              "    <tr>\n",
              "      <th>Day of Week (Sunday is 1)</th>\n",
              "      <td>-0.000865</td>\n",
              "      <td>-0.000408</td>\n",
              "      <td>0.011587</td>\n",
              "      <td>0.019140</td>\n",
              "      <td>1.000000</td>\n",
              "      <td>0.019249</td>\n",
              "      <td>0.006716</td>\n",
              "      <td>-0.004523</td>\n",
              "      <td>-0.009865</td>\n",
              "      <td>-0.001089</td>\n",
              "      <td>-0.002167</td>\n",
              "    </tr>\n",
              "    <tr>\n",
              "      <th>Hour of Day</th>\n",
              "      <td>0.004483</td>\n",
              "      <td>-0.004005</td>\n",
              "      <td>0.057327</td>\n",
              "      <td>0.999651</td>\n",
              "      <td>0.019249</td>\n",
              "      <td>1.000000</td>\n",
              "      <td>0.010473</td>\n",
              "      <td>0.000716</td>\n",
              "      <td>-0.011179</td>\n",
              "      <td>0.004548</td>\n",
              "      <td>0.009731</td>\n",
              "    </tr>\n",
              "    <tr>\n",
              "      <th>Council District</th>\n",
              "      <td>-0.006557</td>\n",
              "      <td>-0.005468</td>\n",
              "      <td>0.007754</td>\n",
              "      <td>0.011004</td>\n",
              "      <td>0.006716</td>\n",
              "      <td>0.010473</td>\n",
              "      <td>1.000000</td>\n",
              "      <td>0.168146</td>\n",
              "      <td>-0.726690</td>\n",
              "      <td>-0.006761</td>\n",
              "      <td>-0.003431</td>\n",
              "    </tr>\n",
              "    <tr>\n",
              "      <th>Longitude</th>\n",
              "      <td>0.011412</td>\n",
              "      <td>0.002791</td>\n",
              "      <td>0.017848</td>\n",
              "      <td>0.000830</td>\n",
              "      <td>-0.004523</td>\n",
              "      <td>0.000716</td>\n",
              "      <td>0.168146</td>\n",
              "      <td>1.000000</td>\n",
              "      <td>0.051098</td>\n",
              "      <td>0.011401</td>\n",
              "      <td>0.011637</td>\n",
              "    </tr>\n",
              "    <tr>\n",
              "      <th>Latitude</th>\n",
              "      <td>0.015287</td>\n",
              "      <td>0.008119</td>\n",
              "      <td>-0.020047</td>\n",
              "      <td>-0.011536</td>\n",
              "      <td>-0.009865</td>\n",
              "      <td>-0.011179</td>\n",
              "      <td>-0.726690</td>\n",
              "      <td>0.051098</td>\n",
              "      <td>1.000000</td>\n",
              "      <td>0.015466</td>\n",
              "      <td>0.012213</td>\n",
              "    </tr>\n",
              "    <tr>\n",
              "      <th>uniq</th>\n",
              "      <td>0.999406</td>\n",
              "      <td>0.301816</td>\n",
              "      <td>-0.024844</td>\n",
              "      <td>0.004676</td>\n",
              "      <td>-0.001089</td>\n",
              "      <td>0.004548</td>\n",
              "      <td>-0.006761</td>\n",
              "      <td>0.011401</td>\n",
              "      <td>0.015466</td>\n",
              "      <td>1.000000</td>\n",
              "      <td>0.975512</td>\n",
              "    </tr>\n",
              "    <tr>\n",
              "      <th>month</th>\n",
              "      <td>0.976334</td>\n",
              "      <td>0.247433</td>\n",
              "      <td>-0.025752</td>\n",
              "      <td>0.010448</td>\n",
              "      <td>-0.002167</td>\n",
              "      <td>0.009731</td>\n",
              "      <td>-0.003431</td>\n",
              "      <td>0.011637</td>\n",
              "      <td>0.012213</td>\n",
              "      <td>0.975512</td>\n",
              "      <td>1.000000</td>\n",
              "    </tr>\n",
              "  </tbody>\n",
              "</table>\n",
              "</div>"
            ],
            "text/plain": [
              "                           Crime ID  Report #  ...      uniq     month\n",
              "Crime ID                   1.000000  0.301324  ...  0.999406  0.976334\n",
              "Report #                   0.301324  1.000000  ...  0.301816  0.247433\n",
              "State Offense Code        -0.024493 -0.002867  ... -0.024844 -0.025752\n",
              "Incident Time (24h)        0.004613 -0.004807  ...  0.004676  0.010448\n",
              "Day of Week (Sunday is 1) -0.000865 -0.000408  ... -0.001089 -0.002167\n",
              "Hour of Day                0.004483 -0.004005  ...  0.004548  0.009731\n",
              "Council District          -0.006557 -0.005468  ... -0.006761 -0.003431\n",
              "Longitude                  0.011412  0.002791  ...  0.011401  0.011637\n",
              "Latitude                   0.015287  0.008119  ...  0.015466  0.012213\n",
              "uniq                       0.999406  0.301816  ...  1.000000  0.975512\n",
              "month                      0.976334  0.247433  ...  0.975512  1.000000\n",
              "\n",
              "[11 rows x 11 columns]"
            ]
          },
          "metadata": {
            "tags": []
          },
          "execution_count": 13
        }
      ]
    },
    {
      "cell_type": "markdown",
      "metadata": {
        "id": "AyssQ2o02WE8",
        "colab_type": "text"
      },
      "source": [
        "## Conclusion\n",
        "\n",
        "An exploratory data analysis was performed using city of Detroit's Open Data Portal. The Crime Data for the city of Detroit was analyzed to determine if there was a relationship among crime in the city. \n",
        "\n",
        "- Significantly more crimes take place at night in particular concentrated around midnight.\n",
        "\n",
        "- Crime is distributed evenly through out the week.\n",
        "\n"
      ]
    }
  ]
}